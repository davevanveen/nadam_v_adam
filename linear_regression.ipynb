{
 "cells": [
  {
   "cell_type": "markdown",
   "metadata": {},
   "source": [
    "# Nadam v. Adam: Linear Regression\n",
    "\n",
    "The purpose of this notebook is to compare ADAM and NADAM on a linear regression problem. Data was obtained from the numpy files given in EE381K: HW 1, problem 1."
   ]
  },
  {
   "cell_type": "code",
   "execution_count": 126,
   "metadata": {
    "collapsed": true
   },
   "outputs": [],
   "source": [
    "import numpy as np\n",
    "import numpy.linalg as la\n",
    "import matplotlib.pyplot as plt\n",
    "\n",
    "%matplotlib inline"
   ]
  },
  {
   "cell_type": "code",
   "execution_count": 127,
   "metadata": {
    "collapsed": true
   },
   "outputs": [],
   "source": [
    "def calc_grad(x, A, b):\n",
    "    grad = np.dot(A.T, (np.dot(A,x) - b))\n",
    "    return grad"
   ]
  },
  {
   "cell_type": "code",
   "execution_count": 128,
   "metadata": {
    "collapsed": true
   },
   "outputs": [],
   "source": [
    "def adam(x, v, m, A, b, t):  \n",
    "    beta1 = .9\n",
    "    beta2 = .999\n",
    "    eta = 1e-2 # step size\n",
    "    epsilon = int(1e-8) # to avoid division by zero in x_update\n",
    "    \n",
    "    g = calc_grad(x, A, b)\n",
    "    g_sq = np.square(g) # gradient squared (element-wise)\n",
    "    \n",
    "    # update v, m: exp-decay avg of grad, grad^2\n",
    "    v_new = beta2*v + (1-beta2)*g_sq\n",
    "    m_new = beta1*m + (1-beta1)*g \n",
    "    # bias correct v, m\n",
    "    v_hat = v_new / (1-beta2)\n",
    "    m_hat = m_new / (1-beta1)\n",
    "    \n",
    "    # update x\n",
    "    x_new = x - (eta / (np.sqrt(v_hat) + epsilon) ) * m_hat\n",
    "    \n",
    "    return x_new, v_new, m_new"
   ]
  },
  {
   "cell_type": "code",
   "execution_count": 139,
   "metadata": {
    "collapsed": true
   },
   "outputs": [],
   "source": [
    "def nadam(x, m, prod_mu, n, t, A=0, b=0, regularize=0,num_class=0):\n",
    "    mu = .99 #beta1\n",
    "    nu = .999 #beta2\n",
    "    eta = 1e-2\n",
    "    \n",
    "    grad = calc_grad(x, A, b)\n",
    "    mu_t = mu*(1 - 0.5*.96**(t/250))\n",
    "    mu_t_1 = mu*(1 - 0.5*.96**((t+1)/250))\n",
    "    prod_mu = prod_mu*mu_t\n",
    "    prod_mu_1 = prod_mu*mu_t_1\n",
    "    g_hat = grad/(1-prod_mu)\n",
    "    m = mu*m+(1-mu)*grad\n",
    "    \n",
    "    m_hat = m/(1-prod_mu_1)\n",
    "    n = nu*n + (1-nu)*np.multiply(grad, grad)\n",
    "    n_hat = n/(1-nu**t)\n",
    "    m_bar = (1 - mu_t)*g_hat + mu_t_1*m_hat\n",
    "    \n",
    "    eps = 1e-8\n",
    "    x = x - eta*np.multiply(m_bar, 1/(n_hat**0.5 + eps))\n",
    "    return x, m, n, prod_mu"
   ]
  },
  {
   "cell_type": "code",
   "execution_count": 140,
   "metadata": {
    "collapsed": true
   },
   "outputs": [],
   "source": [
    "def descent_adam(A, b, T):\n",
    "    x = np.zeros(A.shape[1]) # initialize x\n",
    "    v = np.zeros(A.shape[1]) # initialize v: exp-decay avg of grad^2\n",
    "    m = np.zeros(A.shape[1]) # initialize m: exp-decay avg of grad\n",
    "    \n",
    "    err = []\n",
    "    \n",
    "    for t in xrange(T):\n",
    "        x, v, m = adam(x, v, m, A, b, t)  \n",
    "        err.append(la.norm(np.dot(A,x) - b))\n",
    "    \n",
    "    return x, err"
   ]
  },
  {
   "cell_type": "code",
   "execution_count": 141,
   "metadata": {
    "collapsed": true
   },
   "outputs": [],
   "source": [
    "def descent_nadam(A, b, T):\n",
    "    x = np.zeros(A.shape[1]) # initialize x\n",
    "    n = np.zeros(A.shape[1]) # initialize v: exp-decay avg of grad^2\n",
    "    m = np.zeros(A.shape[1]) # initialize m: exp-decay avg of grad\n",
    "    \n",
    "    err = []\n",
    "    prod_mu = 1\n",
    "    \n",
    "    for t in xrange(T):\n",
    "        x, m, n, prod_mu = nadam(x, m, prod_mu, n, t+1, A, b)\n",
    "        err.append(la.norm(np.dot(A,x) - b))   \n",
    "        \n",
    "    return x, err"
   ]
  },
  {
   "cell_type": "code",
   "execution_count": 142,
   "metadata": {
    "collapsed": true
   },
   "outputs": [],
   "source": [
    "def main():\n",
    "    A = np.load(\"A.npy\")\n",
    "    b = np.load(\"b.npy\")\n",
    "    T = int(2e2)\n",
    "\n",
    "    x_ad, err_ad = descent_adam(A, b, T)\n",
    "    x_nad, err_nad = descent_nadam(A, b, T)\n",
    "    \n",
    "    # Plot Error\n",
    "    plt.clf()\n",
    "    plt.plot(err_ad, label = 'ADAM')\n",
    "    plt.plot(err_nad, label = 'NADAM')\n",
    "    plt.legend()\n",
    "    plt.xlabel('Iteration')\n",
    "    plt.title('Error')"
   ]
  },
  {
   "cell_type": "code",
   "execution_count": 143,
   "metadata": {},
   "outputs": [
    {
     "data": {
      "image/png": "[encoded data removed]",
      "text/plain": [
       "<matplotlib.figure.Figure at 0x115826a90>"
      ]
     },
     "metadata": {},
     "output_type": "display_data"
    }
   ],
   "source": [
    "main()"
   ]
  },
  {
   "cell_type": "markdown",
   "metadata": {},
   "source": [
    "As we can see, the error of Adam decreases faster than that of Nadam for this linear regression example."
   ]
  },
  {
   "cell_type": "code",
   "execution_count": null,
   "metadata": {
    "collapsed": true
   },
   "outputs": [],
   "source": []
  }
 ],
 "metadata": {
  "kernelspec": {
   "display_name": "Python 2",
   "language": "python",
   "name": "python2"
  },
  "language_info": {
   "codemirror_mode": {
    "name": "ipython",
    "version": 2
   },
   "file_extension": ".py",
   "mimetype": "text/x-python",
   "name": "python",
   "nbconvert_exporter": "python",
   "pygments_lexer": "ipython2",
   "version": "2.7.13"
  }
 },
 "nbformat": 4,
 "nbformat_minor": 2
}
