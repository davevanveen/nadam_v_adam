{
 "cells": [
  {
   "cell_type": "markdown",
   "metadata": {},
   "source": []
  },
  {
   "cell_type": "code",
   "execution_count": 1,
   "metadata": {
    "collapsed": true
   },
   "outputs": [],
   "source": [
    "from __future__ import print_function\n",
    "import argparse\n",
    "import torch\n",
    "import torch.nn as nn\n",
    "import torch.nn.functional as F\n",
    "import torch.optim as optim\n",
    "from torchvision import datasets, transforms\n",
    "from torch.autograd import Variable\n",
    "import NadamLocal\n",
    "import matplotlib.pyplot as plt\n",
    "import time\n",
    "import numpy as np\n",
    "\n",
    "%matplotlib inline"
   ]
  },
  {
   "cell_type": "code",
   "execution_count": 2,
   "metadata": {
    "collapsed": true
   },
   "outputs": [],
   "source": [
    "cuda = False\n",
    "cuda = cuda and torch.cuda.is_available()\n",
    "\n",
    "torch.manual_seed(1)\n",
    "if cuda:\n",
    "    torch.cuda.manual_seed(1)\n",
    "\n",
    "kwargs = {'num_workers': 1, 'pin_memory': True} if cuda else {}"
   ]
  },
  {
   "cell_type": "code",
   "execution_count": 3,
   "metadata": {
    "collapsed": true
   },
   "outputs": [],
   "source": [
    "train_loader = torch.utils.data.DataLoader(\n",
    "    datasets.MNIST('../data', train=True, download=True,\n",
    "                   transform=transforms.Compose([\n",
    "                       transforms.ToTensor(),\n",
    "                       transforms.Normalize((0.1307,), (0.3081,))\n",
    "                   ])),\n",
    "    batch_size=64, shuffle=True, **kwargs)\n",
    "test_loader = torch.utils.data.DataLoader(\n",
    "    datasets.MNIST('../data', train=False, transform=transforms.Compose([\n",
    "                       transforms.ToTensor(),\n",
    "                       transforms.Normalize((0.1307,), (0.3081,))\n",
    "                   ])),\n",
    "    batch_size=1000, shuffle=True, **kwargs)"
   ]
  },
  {
   "cell_type": "code",
   "execution_count": 4,
   "metadata": {
    "collapsed": true
   },
   "outputs": [],
   "source": [
    "class Net(nn.Module):\n",
    "    def __init__(self):\n",
    "        super(Net, self).__init__()\n",
    "        self.conv1 = nn.Conv2d(1, 10, kernel_size=5)\n",
    "        self.conv2 = nn.Conv2d(10, 20, kernel_size=5)\n",
    "        self.conv2_drop = nn.Dropout2d()\n",
    "        self.fc1 = nn.Linear(320, 50)\n",
    "        self.fc2 = nn.Linear(50, 10)\n",
    "\n",
    "    def forward(self, x):\n",
    "        x = F.relu(F.max_pool2d(self.conv1(x), 2))\n",
    "        x = F.relu(F.max_pool2d(self.conv2_drop(self.conv2(x)), 2))\n",
    "        x = x.view(-1, 320)\n",
    "        x = F.relu(self.fc1(x))\n",
    "        x = F.dropout(x, training=self.training)\n",
    "        x = self.fc2(x)\n",
    "        return F.log_softmax(x)\n",
    "    \n",
    "model_sgd = Net()\n",
    "model_adam = Net()\n",
    "model_nadam = Net()\n",
    "\n",
    "if cuda:\n",
    "    model_sgd.cuda()\n",
    "    model_adam.cuda()\n",
    "    model_nadam.cuda()\n",
    "\n",
    "optimizer_sgd = optim.SGD(model_sgd.parameters(), lr=.01, momentum=.5)\n",
    "optimizer_adam = optim.Adam(model_adam.parameters())\n",
    "optimizer_nadam = NadamLocal.Nadam(model_nadam.parameters())"
   ]
  },
  {
   "cell_type": "code",
   "execution_count": 5,
   "metadata": {
    "collapsed": true
   },
   "outputs": [],
   "source": [
    "def train(epoch):\n",
    "    model_sgd.train()\n",
    "    model_adam.train()\n",
    "    model_nadam.train()\n",
    "\n",
    "    for batch_idx, (data, target) in enumerate(train_loader):\n",
    "        if cuda:\n",
    "            data, target = data.cuda(), target.cuda()\n",
    "        data, target = Variable(data), Variable(target)\n",
    "        optimizer_sgd.zero_grad()\n",
    "        optimizer_adam.zero_grad()\n",
    "        optimizer_nadam.zero_grad()\n",
    "\n",
    "        output_sgd = model_sgd(data)\n",
    "        output_adam = model_adam(data)\n",
    "        output_nadam = model_nadam(data)\n",
    "\n",
    "        loss_sgd = F.nll_loss(output_sgd, target)\n",
    "        loss_adam = F.nll_loss(output_adam, target)\n",
    "        loss_nadam = F.nll_loss(output_nadam, target)\n",
    "\n",
    "        loss_sgd.backward()\n",
    "        loss_adam.backward()\n",
    "        loss_nadam.backward()\n",
    "\n",
    "        optimizer_sgd.step()\n",
    "        optimizer_adam.step()\n",
    "        optimizer_nadam.step()"
   ]
  },
  {
   "cell_type": "code",
   "execution_count": 6,
   "metadata": {
    "collapsed": true
   },
   "outputs": [],
   "source": [
    "def test():\n",
    "    model_sgd.eval()\n",
    "    model_adam.eval()\n",
    "    model_nadam.eval()\n",
    "\n",
    "    test_loss_sgd = 0\n",
    "    test_loss_adam = 0\n",
    "    test_loss_nadam = 0\n",
    "\n",
    "    correct_sgd = 0\n",
    "    correct_adam = 0\n",
    "    correct_nadam = 0\n",
    "\n",
    "    for data, target in test_loader:\n",
    "        if cuda:\n",
    "            data, target = data.cuda(), target.cuda()\n",
    "        data, target = Variable(data, volatile=True), Variable(target)\n",
    "\n",
    "        output_sgd  = model_sgd(data)\n",
    "        output_adam = model_adam(data)\n",
    "        output_nadam = model_nadam(data)\n",
    "\n",
    "        test_loss_sgd += F.nll_loss(output_sgd, target, size_average=False).data[0] # sum up batch loss\n",
    "        test_loss_adam += F.nll_loss(output_adam, target, size_average=False).data[0] # sum up batch loss\n",
    "        test_loss_nadam += F.nll_loss(output_nadam, target, size_average=False).data[0] # sum up batch loss\n",
    "\n",
    "        pred_sgd = output_sgd.data.max(1, keepdim=True)[1] # get the index of the max log-probability\n",
    "        pred_adam = output_adam.data.max(1, keepdim=True)[1] # get the index of the max log-probability\n",
    "        pred_nadam = output_nadam.data.max(1, keepdim=True)[1] # get the index of the max log-probability\n",
    "\n",
    "        correct_sgd += pred_sgd.eq(target.data.view_as(pred_sgd)).cpu().sum()\n",
    "        correct_adam += pred_adam.eq(target.data.view_as(pred_adam)).cpu().sum()\n",
    "        correct_nadam += pred_nadam.eq(target.data.view_as(pred_nadam)).cpu().sum()\n",
    "\n",
    "    test_loss_sgd /= len(test_loader.dataset)\n",
    "    test_loss_adam /= len(test_loader.dataset)\n",
    "    test_loss_nadam /= len(test_loader.dataset)\n",
    "\n",
    "    return (test_loss_sgd, test_loss_adam, test_loss_nadam)"
   ]
  },
  {
   "cell_type": "code",
   "execution_count": null,
   "metadata": {
    "collapsed": true
   },
   "outputs": [],
   "source": [
    "def training_cost():\n",
    "    model_sgd.eval()\n",
    "    model_adam.eval()\n",
    "    model_nadam.eval()\n",
    "\n",
    "    train_loss_sgd = 0\n",
    "    train_loss_adam = 0\n",
    "    train_loss_nadam = 0\n",
    "\n",
    "    correct_sgd = 0\n",
    "    correct_adam = 0\n",
    "    correct_nadam = 0\n",
    "\n",
    "    for data, target in train_loader:\n",
    "        if cuda:\n",
    "            data, target = data.cuda(), target.cuda()\n",
    "        data, target = Variable(data, volatile=True), Variable(target)\n",
    "\n",
    "        output_sgd  = model_sgd(data)\n",
    "        output_adam = model_adam(data)\n",
    "        output_nadam = model_nadam(data)\n",
    "\n",
    "        train_loss_sgd += F.nll_loss(output_sgd, target, size_average=False).data[0] # sum up batch loss\n",
    "        train_loss_adam += F.nll_loss(output_adam, target, size_average=False).data[0] # sum up batch loss\n",
    "        train_loss_nadam += F.nll_loss(output_nadam, target, size_average=False).data[0] # sum up batch loss\n",
    "\n",
    "        pred_sgd = output_sgd.data.max(1, keepdim=True)[1] # get the index of the max log-probability\n",
    "        pred_adam = output_adam.data.max(1, keepdim=True)[1] # get the index of the max log-probability\n",
    "        pred_nadam = output_nadam.data.max(1, keepdim=True)[1] # get the index of the max log-probability\n",
    "\n",
    "        correct_sgd += pred_sgd.eq(target.data.view_as(pred_sgd)).cpu().sum()\n",
    "        correct_adam += pred_adam.eq(target.data.view_as(pred_adam)).cpu().sum()\n",
    "        correct_nadam += pred_nadam.eq(target.data.view_as(pred_nadam)).cpu().sum()\n",
    "\n",
    "    train_loss_sgd /= len(train_loader.dataset)\n",
    "    train_loss_adam /= len(train_loader.dataset)\n",
    "    train_loss_nadam /= len(train_loader.dataset)\n",
    "\n",
    "    return (train_loss_sgd, train_loss_adam, train_loss_nadam)"
   ]
  },
  {
   "cell_type": "code",
   "execution_count": null,
   "metadata": {},
   "outputs": [
    {
     "name": "stderr",
     "output_type": "stream",
     "text": [
      "/Users/yannigeorghiades/anaconda2/lib/python2.7/site-packages/ipykernel_launcher.py:17: UserWarning: Implicit dimension choice for log_softmax has been deprecated. Change the call to include dim=X as an argument.\n"
     ]
    }
   ],
   "source": [
    "training_cost_v = []\n",
    "test_cost_v = []\n",
    "epochs = 3\n",
    "\n",
    "for epoch in range(1, epochs + 1):\n",
    "    train(epoch)\n",
    "    test_cost_v.append(test())\n",
    "    training_cost_v.append(training_cost())"
   ]
  },
  {
   "cell_type": "code",
   "execution_count": null,
   "metadata": {},
   "outputs": [],
   "source": [
    "training_cost_v = np.asarray(training_cost_v)\n",
    "test_cost_v = np.asarray(test_cost_v)\n",
    "\n",
    "plt.clf()\n",
    "plt.figure(figsize=(20,8))\n",
    "plt.subplot(1, 2, 1)\n",
    "plt.plot(training_cost_v.T[2], label='Nadam')\n",
    "plt.plot(training_cost_v.T[0], label='SGD')\n",
    "plt.plot(training_cost_v.T[1], label='Adam')\n",
    "plt.xlabel('Epochs')\n",
    "plt.ylabel('Negative Log Likelihood')\n",
    "plt.legend()\n",
    "plt.title('Training Loss vs Epoch')\n",
    "\n",
    "plt.subplot(1, 2, 2)\n",
    "plt.plot(test_cost_v.T[2], label='Nadam')\n",
    "plt.plot(test_cost_v.T[0], label='SGD')\n",
    "plt.plot(test_cost_v.T[1], label='Adam')\n",
    "plt.xlabel('Epochs')\n",
    "plt.ylabel('Negative Log Likelihood')\n",
    "plt.legend()\n",
    "plt.title('Test Loss vs Epoch')\n",
    "\n",
    "plt.show()"
   ]
  },
  {
   "cell_type": "code",
   "execution_count": null,
   "metadata": {
    "collapsed": true
   },
   "outputs": [],
   "source": []
  }
 ],
 "metadata": {
  "kernelspec": {
   "display_name": "Python 2",
   "language": "python",
   "name": "python2"
  },
  "language_info": {
   "codemirror_mode": {
    "name": "ipython",
    "version": 2
   },
   "file_extension": ".py",
   "mimetype": "text/x-python",
   "name": "python",
   "nbconvert_exporter": "python",
   "pygments_lexer": "ipython2",
   "version": "2.7.13"
  }
 },
 "nbformat": 4,
 "nbformat_minor": 2
}
